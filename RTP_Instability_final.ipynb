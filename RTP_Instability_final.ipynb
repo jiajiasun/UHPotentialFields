{
 "cells": [
  {
   "cell_type": "markdown",
   "metadata": {},
   "source": [
    "## RTP Instability\n",
    "Reduction-to-pole (RTP) is one of the most widely used data processing techniques in potential field geophysics. The typical way of performing RTP is in Fourier domain. When it comes to teaching, however, it is often hard to explain to students why the standard RTP method would fail at low magnetic latitude without going into the details of some complicated mathematics. This script is to help students in GEOL 7330 at UH to understand the instabilities of RTP operator in wavenumber doman. This is particularly useful for those who do not want to get into the mathematical details, or who do not want to do the coding work themselves. This notebook allows students to be active and play with several adjustable parameters to really understand how RTP operator works. <br>\n",
    "<br>\n",
    "Author: Jiajia Sun, 03/31/2020 at University of Houston."
   ]
  },
  {
   "cell_type": "markdown",
   "metadata": {},
   "source": [
    "### First step is to import some packages that we will need to do the mathematical calculation."
   ]
  },
  {
   "cell_type": "code",
   "execution_count": 6,
   "metadata": {},
   "outputs": [],
   "source": [
    "import numpy as np\n",
    "import matplotlib.pyplot as plt\n",
    "import cmath\n",
    "import ipywidgets as widgets\n",
    "from IPython.display import display"
   ]
  },
  {
   "cell_type": "code",
   "execution_count": 7,
   "metadata": {},
   "outputs": [],
   "source": [
    "# to get rid of the warning message when dividing by 0 (i.e, when kx=ky=0)\n",
    "import warnings\n",
    "warnings.filterwarnings('ignore')"
   ]
  },
  {
   "cell_type": "markdown",
   "metadata": {},
   "source": [
    "### Create a function that convert dip and azimuth to a three-component vector in Cartesian coordinate system."
   ]
  },
  {
   "cell_type": "code",
   "execution_count": 8,
   "metadata": {},
   "outputs": [],
   "source": [
    "def degree2_cartesian(inc,dec):\n",
    "    inc_radian = np.radians(inc)\n",
    "    dec_radian = np.radians(dec)\n",
    "    return np.array([np.cos(inc_radian)*np.cos(dec_radian),np.cos(inc_radian)*np.sin(dec_radian),np.sin(inc_radian)])"
   ]
  },
  {
   "cell_type": "markdown",
   "metadata": {},
   "source": [
    "### Create an interactive widget to allow users to change the input values and visualize the results"
   ]
  },
  {
   "cell_type": "code",
   "execution_count": 10,
   "metadata": {},
   "outputs": [
    {
     "data": {
      "application/vnd.jupyter.widget-view+json": {
       "model_id": "7fa530290a4549838cdec757a8f03514",
       "version_major": 2,
       "version_minor": 0
      },
      "text/plain": [
       "interactive(children=(IntSlider(value=60, description='inc_induce', max=90, min=-90), IntSlider(value=30, desc…"
      ]
     },
     "metadata": {},
     "output_type": "display_data"
    }
   ],
   "source": [
    "@widgets.interact_manual(inc_induce=(-90,90),dec_induce=(0,360),\n",
    "                        inc_magnetiz=(-90,90),dec_magnetiz=(0,360),\n",
    "                        color=['jet','viridis','RdYlBu_r'])\n",
    "def plot(inc_induce=60,dec_induce=30,inc_magnetiz=60,dec_magnetiz=30,grid=True,color='jet'): \n",
    "    kx = np.arange(-100,101)\n",
    "    ky = np.arange(-100,101)\n",
    "    f = degree2_cartesian(inc_induce,dec_induce) # inducing field\n",
    "    m = degree2_cartesian(inc_magnetiz,dec_magnetiz) # magnetization direction\n",
    "    RTP_amp = np.zeros((np.size(ky),np.size(kx)))\n",
    "    RTP_phs = np.zeros((np.size(ky),np.size(kx)))\n",
    "    for icount_x in np.arange(np.size(kx)):\n",
    "        for icount_y in np.arange(np.size(ky)):\n",
    "            k_abs = np.sqrt(kx[icount_x]**2+ky[icount_y]**2)\n",
    "            R = np.array([kx[icount_x]*1j,ky[icount_y]*1j,k_abs])\n",
    "            denominator = R.dot(f)*R.dot(m)\n",
    "            RTP_Operator = k_abs**2/denominator\n",
    "            RTP_amp[icount_y,icount_x] = abs(RTP_Operator)\n",
    "            RTP_phs[icount_y,icount_x] = cmath.phase(RTP_Operator)\n",
    "            \n",
    "    fig = plt.figure(figsize=(12, 8))\n",
    "    ax = plt.subplot(1,2,1)\n",
    "    plt.imshow(RTP_amp,cmap=color)\n",
    "    ax.set_title('Amplitude spectrum')\n",
    "    ax.set_aspect('equal')\n",
    "    ax.grid(grid)\n",
    "    pos = ax.get_position()\n",
    "    cax = fig.add_axes([pos.x0,pos.y0-0.08,pos.width*1,pos.height*0.05])\n",
    "    plt.colorbar(cax=cax,orientation='horizontal')\n",
    "\n",
    "    ax2 = plt.subplot(1,2,2)\n",
    "    plt.imshow(RTP_phs,cmap=color)\n",
    "    ax2.set_title('Phase spectrum')\n",
    "    ax2.set_aspect('equal')\n",
    "    ax2.grid(grid)\n",
    "    pos2 = ax2.get_position()\n",
    "    cax2 = fig.add_axes([pos2.x0,pos2.y0-0.08,pos2.width*1,pos2.height*0.05])\n",
    "    plt.colorbar(cax=cax2,orientation='horizontal')\n",
    "    plt.show()"
   ]
  },
  {
   "cell_type": "code",
   "execution_count": null,
   "metadata": {},
   "outputs": [],
   "source": []
  }
 ],
 "metadata": {
  "kernelspec": {
   "display_name": "Python 3",
   "language": "python",
   "name": "python3"
  },
  "language_info": {
   "codemirror_mode": {
    "name": "ipython",
    "version": 3
   },
   "file_extension": ".py",
   "mimetype": "text/x-python",
   "name": "python",
   "nbconvert_exporter": "python",
   "pygments_lexer": "ipython3",
   "version": "3.7.3"
  }
 },
 "nbformat": 4,
 "nbformat_minor": 2
}
